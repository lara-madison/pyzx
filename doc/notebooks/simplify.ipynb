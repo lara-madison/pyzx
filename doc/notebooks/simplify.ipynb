{
 "cells": [
  {
   "cell_type": "markdown",
   "id": "88199b21",
   "metadata": {},
   "source": [
    "# Simplify\n",
    "\n",
    "The main functionality of PyZX is the ability to optimize quantum circuits. The main optimization methods work by converting a circuit into a ZX-diagram, simplifying this diagram, and then converting it back into a quantum circuit. This process is explained in the next section. There are also some basic optimization methods that work directly on the quantum circuit representation. This is detailed in the section [Gate-level optimization](#gate-level-optimization) .\n",
    "\n",
    "\n",
    "## Optimizing circuits using the ZX-calculus\n",
    "\n",
    "PyZX allows the simplification of quantum circuits via a translation to the ZX-calculus. To demonstrate this functionality, let us generate a random circuit using :func:`~pyzx.generate.CNOT_HAD_PHASE_circuit`::\n"
   ]
  },
  {
   "cell_type": "markdown",
   "id": "8f06a4d2",
   "metadata": {},
   "source": [
    "\n",
    "\tc = zx.generate.CNOT_HAD_PHASE_circuit(qubits=8, depth=100)\n",
    "\tprint(c.stats())\n",
    "\n",
    "To use the ZX-diagram simplification routines, the circuit must first be converted to a ZX-diagram::\n",
    "\n",
    "\tg = c.to_graph()\n",
    "\n",
    "We can now use any of the built-in simplification strategies for ZX-diagrams. The most powerful of these is :func:`~pyzx.simplify.full_reduce`::\n",
    "\n",
    "\tzx.full_reduce(g, quiet=False) # simplifies the Graph in-place, and show the rewrite steps taken.\n",
    "\tg.normalize() # Makes the graph more suitable for displaying\n",
    "\tzx.draw(g) # Display the resulting diagram\n",
    "\n",
    "This rewrite strategy implements a variant of the algorithm described in `this paper <https://arxiv.org/abs/1903.10477>`__.\n",
    "The resulting diagram most-likely does not resemble the structure of a circuit. In order to extract an equivalent circuit from the diagram, we use the function :func:`~pyzx.extract.extract_circuit`.\n",
    "\n",
    "Simply use it like so::\n",
    "\n",
    "\tc_opt = zx.extract_circuit(g.copy())\n",
    "\n",
    "For some circuits, :func:`~pyzx.extract.extract_circuit` can result in quite large circuits involving many CNOT gates. If one is only interested in optimizing the T-count of a circuit, the extraction stage can be skipped by using the *phase-teleportation* method of `this paper <https://arxiv.org/abs/1903.10477>`__. This applies ``full_reduce`` in such a way that only phases are moved around the circuit, and all other structure remains intact::\n",
    "\n",
    "\tg = c.to_graph()\n",
    "\tzx.teleport_reduce(g)\n",
    "\tc_opt = zx.Circuit.from_graph(g) # This function is able to reconstruct a Circuit from a Graph that looks sufficiently like a Circuit\n"
   ]
  },
  {
   "cell_type": "code",
   "execution_count": null,
   "id": "e4e48fb5",
   "metadata": {},
   "outputs": [],
   "source": []
  },
  {
   "cell_type": "markdown",
   "id": "2c356982",
   "metadata": {},
   "source": [
    "## Gate-level optimization"
   ]
  }
 ],
 "metadata": {
  "kernelspec": {
   "display_name": "3.12.7",
   "language": "python",
   "name": "python3"
  },
  "language_info": {
   "name": "python",
   "version": "3.12.7"
  }
 },
 "nbformat": 4,
 "nbformat_minor": 5
}
